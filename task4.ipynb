{
 "cells": [
  {
   "cell_type": "markdown",
   "metadata": {},
   "source": [
    "## Importing the necessary libraries"
   ]
  },
  {
   "cell_type": "code",
   "execution_count": 1,
   "metadata": {},
   "outputs": [],
   "source": [
    "import datetime\n",
    "import pytz\n",
    "import speech_recognition as sr\n",
    "from tensorflow.keras.models import load_model\n",
    "from tensorflow.keras.preprocessing.sequence import pad_sequences\n",
    "from tensorflow.keras.preprocessing.text import tokenizer_from_json\n",
    "import json\n",
    "import numpy as np"
   ]
  },
  {
   "cell_type": "code",
   "execution_count": 2,
   "metadata": {},
   "outputs": [],
   "source": [
    "## loading the model\n",
    "\n",
    "model_hi = load_model('english_to_hindi_lstm_model')\n",
    "\n",
    "#load Tokenizer\n",
    "with open('english_tokenizer_hindi.json') as f:\n",
    "    data = json.load(f)\n",
    "    english_tokenizer = tokenizer_from_json(data)\n",
    "\n",
    "with open('hindi_tokenizer.json') as f:\n",
    "    data = json.load(f)\n",
    "    hindi_tokenizer = tokenizer_from_json(data)"
   ]
  },
  {
   "cell_type": "code",
   "execution_count": 4,
   "metadata": {},
   "outputs": [],
   "source": [
    "with open('sequence_length_hindi.json') as f:\n",
    "    max_length_hindi = json.load(f)\n",
    "    \n",
    "def pad(x, length=None):\n",
    "    return pad_sequences(x, maxlen=length, padding='post')\n",
    "\n",
    "def translate_to_hindi(english_sentence):\n",
    "    english_sentence = english_sentence.lower()\n",
    "    \n",
    "    english_sentence = english_sentence.replace(\".\", '')\n",
    "    english_sentence = english_sentence.replace(\"?\", '')\n",
    "    english_sentence = english_sentence.replace(\"!\", '')\n",
    "    english_sentence = english_sentence.replace(\",\", '')\n",
    "    \n",
    "    english_sentence = english_tokenizer.texts_to_sequences([english_sentence])\n",
    "    english_sentence = pad(english_sentence, max_length_hindi)\n",
    "    \n",
    "    english_sentence = english_sentence.reshape((-1,max_length_hindi))\n",
    "    \n",
    "    hindi_sentence = model_hi.predict(english_sentence)[0]\n",
    "    \n",
    "    hindi_sentence = [np.argmax(word) for word in hindi_sentence]\n",
    "\n",
    "    hindi_sentence = hindi_tokenizer.sequences_to_texts([hindi_sentence])[0]\n",
    "    \n",
    "    # print(\"hindi translation: \", hindi_sentence)\n",
    "    \n",
    "    return hindi_sentence"
   ]
  },
  {
   "cell_type": "code",
   "execution_count": 13,
   "metadata": {},
   "outputs": [],
   "source": [
    "def is_after_6pm_ist():\n",
    "    ist = pytz.timezone('Asia/Kolkata')\n",
    "    current_time = datetime.datetime.now(ist)\n",
    "    return current_time.hour >= 18\n",
    "\n",
    "def listen_and_translate():\n",
    "    recognizer = sr.Recognizer()\n",
    "\n",
    "    while True:\n",
    "        with sr.Microphone() as source:\n",
    "            print(\"Listening...\")\n",
    "            audio = recognizer.listen(source)\n",
    "\n",
    "        try:\n",
    "            english_text = recognizer.recognize_google(audio)\n",
    "            print(f\"You said: {english_text}\")\n",
    "\n",
    "            if not is_after_6pm_ist():\n",
    "                print(\"Please try after 6 PM IST.\")\n",
    "                return\n",
    "\n",
    "            if english_text.strip().lower()[0] in ['m', 'o']:\n",
    "                print(\"Cannot translate words starting with 'M' or 'O'.\")\n",
    "                return\n",
    "\n",
    "            hindi_translation = translate_to_hindi(english_text)\n",
    "            print(f\"Hindi translation: {hindi_translation}\")\n",
    "            return\n",
    "\n",
    "        except sr.UnknownValueError:\n",
    "            print(\"Sorry, I couldn't understand the audio. Please try again.\")\n",
    "        except sr.RequestError as e:\n",
    "            print(f\"Could not request results; {e}\")\n",
    "            return"
   ]
  },
  {
   "cell_type": "code",
   "execution_count": 12,
   "metadata": {},
   "outputs": [
    {
     "name": "stdout",
     "output_type": "stream",
     "text": [
      "Listening...\n",
      "You said: origami\n",
      "Cannot translate words starting with 'M' or 'O'.\n"
     ]
    }
   ],
   "source": [
    "listen_and_translate()"
   ]
  },
  {
   "cell_type": "markdown",
   "metadata": {},
   "source": [
    "#"
   ]
  }
 ],
 "metadata": {
  "kernelspec": {
   "display_name": "nulclass",
   "language": "python",
   "name": "python3"
  },
  "language_info": {
   "codemirror_mode": {
    "name": "ipython",
    "version": 3
   },
   "file_extension": ".py",
   "mimetype": "text/x-python",
   "name": "python",
   "nbconvert_exporter": "python",
   "pygments_lexer": "ipython3",
   "version": "3.9.19"
  }
 },
 "nbformat": 4,
 "nbformat_minor": 2
}
